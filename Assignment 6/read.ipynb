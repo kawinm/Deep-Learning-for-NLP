{
 "cells": [
  {
   "cell_type": "code",
   "execution_count": 3,
   "metadata": {},
   "outputs": [],
   "source": [
    "f = open(\"./EN-DE.txt\", \"r\", encoding='utf-8').readlines()"
   ]
  },
  {
   "cell_type": "code",
   "execution_count": 4,
   "metadata": {},
   "outputs": [
    {
     "name": "stdout",
     "output_type": "stream",
     "text": [
      "5693624\n"
     ]
    }
   ],
   "source": [
    "print(len(f))"
   ]
  },
  {
   "cell_type": "code",
   "execution_count": 5,
   "metadata": {},
   "outputs": [
    {
     "data": {
      "text/plain": [
       "'\\ufeffCommission Regulation (EC) No 1788/2004\\tVerordnung (EG) Nr. 1788/2004 der Kommission\\tCOMMON ATTRIBUTES -- Txt::Doc. No.: 32004R1788   \\tTMX Memory\\tD:\\\\DGT Translation Memory\\tEN-DE.tmx\\t1\\tTranslated\\n'"
      ]
     },
     "execution_count": 5,
     "metadata": {},
     "output_type": "execute_result"
    }
   ],
   "source": [
    "f[0]"
   ]
  },
  {
   "cell_type": "code",
   "execution_count": 6,
   "metadata": {},
   "outputs": [
    {
     "data": {
      "text/plain": [
       "'of 15 October 2004\\tvom 15. Oktober 2004\\tCOMMON ATTRIBUTES -- Txt::Doc. No.: 32004R1788   \\tTMX Memory\\tD:\\\\DGT Translation Memory\\tEN-DE.tmx\\t2\\tTranslated\\n'"
      ]
     },
     "execution_count": 6,
     "metadata": {},
     "output_type": "execute_result"
    }
   ],
   "source": [
    "f[1]"
   ]
  },
  {
   "cell_type": "code",
   "execution_count": 7,
   "metadata": {},
   "outputs": [
    {
     "data": {
      "text/plain": [
       "'fixing the minimum selling prices for butter for the 150th individual invitation to tender under the standing invitation to tender provided for in Regulation (EC) No 2571/97\\tzur Festsetzung der Mindestverkaufspreise für Butter für die 150. Einzelausschreibung im Rahmen der Dauerausschreibung gemäß der Verordnung (EG) Nr. 2571/97\\tCOMMON ATTRIBUTES -- Txt::Doc. No.: 32004R1788   \\tTMX Memory\\tD:\\\\DGT Translation Memory\\tEN-DE.tmx\\t3\\tTranslated\\n'"
      ]
     },
     "execution_count": 7,
     "metadata": {},
     "output_type": "execute_result"
    }
   ],
   "source": [
    "f[2]"
   ]
  },
  {
   "cell_type": "code",
   "execution_count": 8,
   "metadata": {},
   "outputs": [
    {
     "data": {
      "text/plain": [
       "'THE COMMISSION OF THE EUROPEAN COMMUNITIES,\\tDIE KOMMISSION DER EUROPÄISCHEN GEMEINSCHAFTEN —\\tCOMMON ATTRIBUTES -- Txt::Doc. No.: 32004R1788   \\tTMX Memory\\tD:\\\\DGT Translation Memory\\tEN-DE.tmx\\t4\\tTranslated\\n'"
      ]
     },
     "execution_count": 8,
     "metadata": {},
     "output_type": "execute_result"
    }
   ],
   "source": [
    "f[3]"
   ]
  },
  {
   "cell_type": "code",
   "execution_count": null,
   "metadata": {},
   "outputs": [],
   "source": []
  }
 ],
 "metadata": {
  "kernelspec": {
   "display_name": "Python 3.9.7 64-bit",
   "language": "python",
   "name": "python3"
  },
  "language_info": {
   "codemirror_mode": {
    "name": "ipython",
    "version": 3
   },
   "file_extension": ".py",
   "mimetype": "text/x-python",
   "name": "python",
   "nbconvert_exporter": "python",
   "pygments_lexer": "ipython3",
   "version": "3.9.7"
  },
  "orig_nbformat": 4,
  "vscode": {
   "interpreter": {
    "hash": "3697128789cc343f1e8825026702a29e4b696a06c0f30bca478c56195c04c91d"
   }
  }
 },
 "nbformat": 4,
 "nbformat_minor": 2
}
